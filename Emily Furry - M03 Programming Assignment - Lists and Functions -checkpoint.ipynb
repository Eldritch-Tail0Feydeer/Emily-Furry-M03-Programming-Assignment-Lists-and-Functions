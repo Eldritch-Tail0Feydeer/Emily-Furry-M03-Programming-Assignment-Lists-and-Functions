{
 "cells": [
  {
   "cell_type": "code",
   "execution_count": 1,
   "id": "f846a437",
   "metadata": {
    "scrolled": false
   },
   "outputs": [
    {
     "name": "stdout",
     "output_type": "stream",
     "text": [
      "mozzarella\n",
      "Cinderella\n",
      "salmonella\n"
     ]
    }
   ],
   "source": [
    "# 7.4 Make a list called things with these three strings as elements:\n",
    "# \"mozzarella\", \"cinderella\", \"salmonella\".\n",
    "things = [\"mozzarella\", \"cinderella\", \"salmonella\"]\n",
    "\n",
    "# 7.5 Capitalize the element in things that refers to a person and \n",
    "# then print the list. Did it change the element in the list?\n",
    "things[1] = things[1].title()\n",
    "for i in things:\n",
    "    print(i)\n",
    "\n",
    "# Yes, the elements did change. "
   ]
  },
  {
   "cell_type": "code",
   "execution_count": 16,
   "id": "133f1be7",
   "metadata": {
    "scrolled": true
   },
   "outputs": [
    {
     "name": "stdout",
     "output_type": "stream",
     "text": [
      "MOZZARELLA\n",
      "Cinderella\n",
      "salmonella\n"
     ]
    }
   ],
   "source": [
    "# 7.6 Make the cheesy element of things all uppercase and then print the list.\n",
    "things[0] = things[0].upper()\n",
    "for i in things:\n",
    "    print(i)"
   ]
  },
  {
   "cell_type": "code",
   "execution_count": 4,
   "id": "4a0a7ca9",
   "metadata": {},
   "outputs": [
    {
     "name": "stdout",
     "output_type": "stream",
     "text": [
      "mozzarella\n",
      "Cinderella\n"
     ]
    }
   ],
   "source": [
    "# 7.7 Delete the disease element from things, collect your Nobel Prize, and \n",
    "# print the list.\n",
    "del things[2]\n",
    "for i in things:\n",
    "    print(i)"
   ]
  },
  {
   "cell_type": "code",
   "execution_count": 37,
   "id": "d1ce6a99",
   "metadata": {},
   "outputs": [
    {
     "name": "stdout",
     "output_type": "stream",
     "text": [
      "Harry\n",
      "Ron\n",
      "Hermione\n"
     ]
    }
   ],
   "source": [
    "# 9.1 Define a function called good() that returns the following list: \n",
    "# ['Harry', 'Ron', 'Hermione'].\n",
    "def good():\n",
    "    good = ['Harry', 'Ron', 'Hermione']\n",
    "    return good\n",
    "\n",
    "\n",
    "list = good()\n",
    "for i in list:\n",
    "    print(i)"
   ]
  },
  {
   "cell_type": "code",
   "execution_count": null,
   "id": "0cc5b546",
   "metadata": {},
   "outputs": [],
   "source": []
  },
  {
   "cell_type": "code",
   "execution_count": 31,
   "id": "43aaf794",
   "metadata": {},
   "outputs": [
    {
     "name": "stdout",
     "output_type": "stream",
     "text": [
      "1\n",
      "3\n",
      "5\n",
      "7\n",
      "9\n"
     ]
    }
   ],
   "source": [
    "# 9.2 Define a generator function called get_odds() that returns the odd \n",
    "# numbers from range(10). Use a for loop to find and print the third value \n",
    "# returned.\n",
    "odds = []\n",
    "\n",
    "def get_odds():\n",
    "    for i in range(10):\n",
    "        x = i/2\n",
    "        x = str(x)\n",
    "        if \".5\" in x:\n",
    "            odds.append(i)\n",
    "    return odds\n",
    "\n",
    "listy_thing = get_odds()\n",
    "for i in listy_thing:\n",
    "    print(i)"
   ]
  }
 ],
 "metadata": {
  "kernelspec": {
   "display_name": "Python 3 (ipykernel)",
   "language": "python",
   "name": "python3"
  },
  "language_info": {
   "codemirror_mode": {
    "name": "ipython",
    "version": 3
   },
   "file_extension": ".py",
   "mimetype": "text/x-python",
   "name": "python",
   "nbconvert_exporter": "python",
   "pygments_lexer": "ipython3",
   "version": "3.10.9"
  }
 },
 "nbformat": 4,
 "nbformat_minor": 5
}
